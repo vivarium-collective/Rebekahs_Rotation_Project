{
 "cells": [
  {
   "metadata": {},
   "cell_type": "markdown",
   "source": [
    "## question ideas...\n",
    "- what metabolites are involved in what rxns?\n",
    "- function (fermentation product) - use function to analyze model\n",
    "- see agora model as a microbe"
   ],
   "id": "79e65c2701958eb7"
  },
  {
   "metadata": {
    "collapsed": true,
    "ExecuteTime": {
     "end_time": "2025-09-26T18:18:29.747087Z",
     "start_time": "2025-09-26T18:18:29.573666Z"
    }
   },
   "cell_type": "code",
   "source": [
    "import cobra\n",
    "from cobra.io import load_model\n",
    "\n",
    "model = load_model(\"textbook\") # using textbook e. coli model"
   ],
   "id": "94c209711c2c5337",
   "outputs": [],
   "execution_count": 322
  },
  {
   "metadata": {
    "ExecuteTime": {
     "end_time": "2025-09-26T18:18:29.758804Z",
     "start_time": "2025-09-26T18:18:29.755186Z"
    }
   },
   "cell_type": "code",
   "source": [
    "# b1241 = model.genes[0]\n",
    "def geneCounter(gene_index):\n",
    "    \"use gene index to determine if gene is present in reaction and adds each instance to counter\"\n",
    "    total = 0\n",
    "    for rxn in model.reactions:\n",
    "        count = 0\n",
    "        if gene_index in rxn.genes:\n",
    "            count += 1\n",
    "            total += 1\n",
    "        print(f\"{gene_index} appeared {count} times in reaction {rxn.id}\")\n",
    "    print(f\"Gene appears in {total} reactions.\")\n"
   ],
   "id": "f3ddd5f0e969a655",
   "outputs": [],
   "execution_count": 323
  },
  {
   "metadata": {
    "ExecuteTime": {
     "end_time": "2025-09-26T18:18:29.770984Z",
     "start_time": "2025-09-26T18:18:29.767231Z"
    }
   },
   "cell_type": "code",
   "source": "geneCounter(model.genes[0])",
   "id": "3f6fb494c2292016",
   "outputs": [
    {
     "name": "stdout",
     "output_type": "stream",
     "text": [
      "b1241 appeared 1 times in reaction ACALD\n",
      "b1241 appeared 0 times in reaction ACALDt\n",
      "b1241 appeared 0 times in reaction ACKr\n",
      "b1241 appeared 0 times in reaction ACONTa\n",
      "b1241 appeared 0 times in reaction ACONTb\n",
      "b1241 appeared 0 times in reaction ACt2r\n",
      "b1241 appeared 0 times in reaction ADK1\n",
      "b1241 appeared 0 times in reaction AKGDH\n",
      "b1241 appeared 0 times in reaction AKGt2r\n",
      "b1241 appeared 1 times in reaction ALCD2x\n",
      "b1241 appeared 0 times in reaction ATPM\n",
      "b1241 appeared 0 times in reaction ATPS4r\n",
      "b1241 appeared 0 times in reaction Biomass_Ecoli_core\n",
      "b1241 appeared 0 times in reaction CO2t\n",
      "b1241 appeared 0 times in reaction CS\n",
      "b1241 appeared 0 times in reaction CYTBD\n",
      "b1241 appeared 0 times in reaction D_LACt2\n",
      "b1241 appeared 0 times in reaction ENO\n",
      "b1241 appeared 0 times in reaction ETOHt2r\n",
      "b1241 appeared 0 times in reaction EX_ac_e\n",
      "b1241 appeared 0 times in reaction EX_acald_e\n",
      "b1241 appeared 0 times in reaction EX_akg_e\n",
      "b1241 appeared 0 times in reaction EX_co2_e\n",
      "b1241 appeared 0 times in reaction EX_etoh_e\n",
      "b1241 appeared 0 times in reaction EX_for_e\n",
      "b1241 appeared 0 times in reaction EX_fru_e\n",
      "b1241 appeared 0 times in reaction EX_fum_e\n",
      "b1241 appeared 0 times in reaction EX_glc__D_e\n",
      "b1241 appeared 0 times in reaction EX_gln__L_e\n",
      "b1241 appeared 0 times in reaction EX_glu__L_e\n",
      "b1241 appeared 0 times in reaction EX_h_e\n",
      "b1241 appeared 0 times in reaction EX_h2o_e\n",
      "b1241 appeared 0 times in reaction EX_lac__D_e\n",
      "b1241 appeared 0 times in reaction EX_mal__L_e\n",
      "b1241 appeared 0 times in reaction EX_nh4_e\n",
      "b1241 appeared 0 times in reaction EX_o2_e\n",
      "b1241 appeared 0 times in reaction EX_pi_e\n",
      "b1241 appeared 0 times in reaction EX_pyr_e\n",
      "b1241 appeared 0 times in reaction EX_succ_e\n",
      "b1241 appeared 0 times in reaction FBA\n",
      "b1241 appeared 0 times in reaction FBP\n",
      "b1241 appeared 0 times in reaction FORt2\n",
      "b1241 appeared 0 times in reaction FORti\n",
      "b1241 appeared 0 times in reaction FRD7\n",
      "b1241 appeared 0 times in reaction FRUpts2\n",
      "b1241 appeared 0 times in reaction FUM\n",
      "b1241 appeared 0 times in reaction FUMt2_2\n",
      "b1241 appeared 0 times in reaction G6PDH2r\n",
      "b1241 appeared 0 times in reaction GAPD\n",
      "b1241 appeared 0 times in reaction GLCpts\n",
      "b1241 appeared 0 times in reaction GLNS\n",
      "b1241 appeared 0 times in reaction GLNabc\n",
      "b1241 appeared 0 times in reaction GLUDy\n",
      "b1241 appeared 0 times in reaction GLUN\n",
      "b1241 appeared 0 times in reaction GLUSy\n",
      "b1241 appeared 0 times in reaction GLUt2r\n",
      "b1241 appeared 0 times in reaction GND\n",
      "b1241 appeared 0 times in reaction H2Ot\n",
      "b1241 appeared 0 times in reaction ICDHyr\n",
      "b1241 appeared 0 times in reaction ICL\n",
      "b1241 appeared 0 times in reaction LDH_D\n",
      "b1241 appeared 0 times in reaction MALS\n",
      "b1241 appeared 0 times in reaction MALt2_2\n",
      "b1241 appeared 0 times in reaction MDH\n",
      "b1241 appeared 0 times in reaction ME1\n",
      "b1241 appeared 0 times in reaction ME2\n",
      "b1241 appeared 0 times in reaction NADH16\n",
      "b1241 appeared 0 times in reaction NADTRHD\n",
      "b1241 appeared 0 times in reaction NH4t\n",
      "b1241 appeared 0 times in reaction O2t\n",
      "b1241 appeared 0 times in reaction PDH\n",
      "b1241 appeared 0 times in reaction PFK\n",
      "b1241 appeared 0 times in reaction PFL\n",
      "b1241 appeared 0 times in reaction PGI\n",
      "b1241 appeared 0 times in reaction PGK\n",
      "b1241 appeared 0 times in reaction PGL\n",
      "b1241 appeared 0 times in reaction PGM\n",
      "b1241 appeared 0 times in reaction PIt2r\n",
      "b1241 appeared 0 times in reaction PPC\n",
      "b1241 appeared 0 times in reaction PPCK\n",
      "b1241 appeared 0 times in reaction PPS\n",
      "b1241 appeared 0 times in reaction PTAr\n",
      "b1241 appeared 0 times in reaction PYK\n",
      "b1241 appeared 0 times in reaction PYRt2\n",
      "b1241 appeared 0 times in reaction RPE\n",
      "b1241 appeared 0 times in reaction RPI\n",
      "b1241 appeared 0 times in reaction SUCCt2_2\n",
      "b1241 appeared 0 times in reaction SUCCt3\n",
      "b1241 appeared 0 times in reaction SUCDi\n",
      "b1241 appeared 0 times in reaction SUCOAS\n",
      "b1241 appeared 0 times in reaction TALA\n",
      "b1241 appeared 0 times in reaction THD2\n",
      "b1241 appeared 0 times in reaction TKT1\n",
      "b1241 appeared 0 times in reaction TKT2\n",
      "b1241 appeared 0 times in reaction TPI\n",
      "Gene appears in 2 reactions.\n"
     ]
    }
   ],
   "execution_count": 324
  },
  {
   "metadata": {
    "ExecuteTime": {
     "end_time": "2025-09-26T18:18:29.783392Z",
     "start_time": "2025-09-26T18:18:29.780841Z"
    }
   },
   "cell_type": "code",
   "source": [
    "# rxn = key, gene = value\n",
    "def makeDict():\n",
    "    \"\"\"creates a dictionary that defines genes as keys and associated reactions as values\"\"\"\n",
    "    myDict = {}\n",
    "    for gene in model.genes:\n",
    "        myDict[gene.id] = [rxn.id for rxn in gene.reactions]\n",
    "    return myDict"
   ],
   "id": "9a96df79d9b5a370",
   "outputs": [],
   "execution_count": 325
  },
  {
   "metadata": {
    "ExecuteTime": {
     "end_time": "2025-09-26T18:24:23.380732Z",
     "start_time": "2025-09-26T18:24:23.368029Z"
    }
   },
   "cell_type": "code",
   "source": [
    "def callGene(gene_name):\n",
    "    \"\"\"allows user to search for reactions associated with their gene of interest\"\"\"\n",
    "    myDict = makeDict()\n",
    "    for gene, rxn in myDict.items():\n",
    "        if gene == gene_name:\n",
    "            return rxn"
   ],
   "id": "bd4a9877f0024374",
   "outputs": [],
   "execution_count": 340
  },
  {
   "metadata": {
    "ExecuteTime": {
     "end_time": "2025-09-26T18:20:07.981437Z",
     "start_time": "2025-09-26T18:20:07.976579Z"
    }
   },
   "cell_type": "code",
   "source": [
    "# Test code\n",
    "# callGene(\"b1241\")\n",
    "# callGene(\"b1819\")"
   ],
   "id": "d435653eec36432b",
   "outputs": [
    {
     "data": {
      "text/plain": [
       "['GLCpts', 'FRUpts2']"
      ]
     },
     "execution_count": 339,
     "metadata": {},
     "output_type": "execute_result"
    }
   ],
   "execution_count": 339
  }
 ],
 "metadata": {
  "kernelspec": {
   "display_name": "Python 3",
   "language": "python",
   "name": "python3"
  },
  "language_info": {
   "codemirror_mode": {
    "name": "ipython",
    "version": 2
   },
   "file_extension": ".py",
   "mimetype": "text/x-python",
   "name": "python",
   "nbconvert_exporter": "python",
   "pygments_lexer": "ipython2",
   "version": "2.7.6"
  }
 },
 "nbformat": 4,
 "nbformat_minor": 5
}
