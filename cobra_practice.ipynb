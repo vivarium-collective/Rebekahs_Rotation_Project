{
 "cells": [
  {
   "cell_type": "code",
   "id": "initial_id",
   "metadata": {
    "collapsed": true,
    "ExecuteTime": {
     "end_time": "2025-09-23T18:21:10.545424Z",
     "start_time": "2025-09-23T18:21:09.137738Z"
    }
   },
   "source": "from cobra.io import load_model",
   "outputs": [],
   "execution_count": 1
  },
  {
   "metadata": {
    "ExecuteTime": {
     "end_time": "2025-09-24T16:50:16.397443Z",
     "start_time": "2025-09-24T16:50:16.286613Z"
    }
   },
   "cell_type": "code",
   "source": [
    "model = load_model(\"textbook\")\n",
    "model_reactions = model.reactions # can index reactions\n",
    "pgi = model.reactions.get_by_id(\"PGI\")\n",
    "model_metabolites = model.metabolites\n",
    "h_c = model.metabolites.get_by_id(\"h_c\")"
   ],
   "id": "35819b91d2b5aa26",
   "outputs": [],
   "execution_count": 37
  },
  {
   "metadata": {
    "ExecuteTime": {
     "end_time": "2025-09-24T16:51:49.776060Z",
     "start_time": "2025-09-24T16:51:49.737436Z"
    }
   },
   "cell_type": "code",
   "source": [
    "solution = model.optimize()\n",
    "solution_fluxes = solution.fluxes\n",
    "model_summary = model.summary()"
   ],
   "id": "13444119504b28c1",
   "outputs": [],
   "execution_count": 40
  },
  {
   "metadata": {
    "ExecuteTime": {
     "end_time": "2025-09-24T16:52:46.735383Z",
     "start_time": "2025-09-24T16:52:46.728197Z"
    }
   },
   "cell_type": "code",
   "source": [
    "import pandas\n",
    "from time import time\n",
    "\n",
    "from cobra.io import load_model\n",
    "from cobra.flux_analysis import (\n",
    "    single_gene_deletion, single_reaction_deletion, double_gene_deletion,\n",
    "    double_reaction_deletion\n",
    ")"
   ],
   "id": "6bfb79d2dcdf240c",
   "outputs": [],
   "execution_count": 41
  },
  {
   "metadata": {
    "ExecuteTime": {
     "end_time": "2025-09-24T17:02:13.505505Z",
     "start_time": "2025-09-24T17:02:13.485445Z"
    }
   },
   "cell_type": "code",
   "source": [
    "import pandas\n",
    "from time import time\n",
    "\n",
    "from cobra.io import load_model\n",
    "from cobra.flux_analysis import (\n",
    "    single_gene_deletion, single_reaction_deletion, double_gene_deletion,\n",
    "    double_reaction_deletion\n",
    ")"
   ],
   "id": "7a5bb96ba1fa0dd4",
   "outputs": [],
   "execution_count": 70
  },
  {
   "metadata": {
    "ExecuteTime": {
     "end_time": "2025-09-24T16:59:55.228203Z",
     "start_time": "2025-09-24T16:59:52.673547Z"
    }
   },
   "cell_type": "code",
   "outputs": [],
   "execution_count": 69,
   "source": [
    "ecoli_model = load_model(\"iJO1366\")\n",
    "ecoli_model_metabolites = ecoli_model.metabolites"
   ],
   "id": "e9a9e1c4954e9a39"
  },
  {
   "metadata": {
    "ExecuteTime": {
     "end_time": "2025-09-24T17:02:29.348615Z",
     "start_time": "2025-09-24T17:02:27.982278Z"
    }
   },
   "cell_type": "code",
   "source": [
    "print('complete model: ', ecoli_model.optimize())\n",
    "with ecoli_model:\n",
    "    ecoli_model.reactions.AKGDH.knock_out()\n",
    "    print('akgdh knocked out: ', ecoli_model.optimize())"
   ],
   "id": "296482112e4e0ecb",
   "outputs": [
    {
     "name": "stdout",
     "output_type": "stream",
     "text": [
      "complete model:  <Solution 0.982 at 0x111203c50>\n",
      "akgdh knocked out:  <Solution 0.978 at 0x1112032f0>\n"
     ]
    }
   ],
   "execution_count": 71
  },
  {
   "metadata": {
    "ExecuteTime": {
     "end_time": "2025-09-24T16:59:25.943306Z",
     "start_time": "2025-09-24T16:59:25.940328Z"
    }
   },
   "cell_type": "code",
   "source": [
    "from cobra.flux_analysis import (\n",
    "    single_gene_deletion, single_reaction_deletion, double_gene_deletion,\n",
    "    double_reaction_deletion)"
   ],
   "id": "e24ea613244195db",
   "outputs": [],
   "execution_count": 68
  },
  {
   "metadata": {
    "ExecuteTime": {
     "end_time": "2025-09-24T17:03:44.444456Z",
     "start_time": "2025-09-24T17:03:34.112654Z"
    }
   },
   "cell_type": "code",
   "source": "ecoli_model_single_gene_deletion = single_gene_deletion(ecoli_model, ecoli_model.genes[:50])",
   "id": "dcaa7fbe19e4ed98",
   "outputs": [],
   "execution_count": 73
  },
  {
   "metadata": {
    "ExecuteTime": {
     "end_time": "2025-09-24T17:04:20.008809Z",
     "start_time": "2025-09-24T17:04:08.835871Z"
    }
   },
   "cell_type": "code",
   "source": "ecoli_model_single_reaction_deletion = single_reaction_deletion(ecoli_model,ecoli_model.reactions[:50])",
   "id": "82aad8b790ef2ab4",
   "outputs": [],
   "execution_count": 74
  },
  {
   "metadata": {
    "ExecuteTime": {
     "end_time": "2025-09-24T17:04:37.425662Z",
     "start_time": "2025-09-24T17:04:37.421223Z"
    }
   },
   "cell_type": "code",
   "source": "ecoli_model_reactions_DM_amob_c = ecoli_model.reactions.DM_amob_c",
   "id": "c11483400960fe14",
   "outputs": [],
   "execution_count": 75
  },
  {
   "metadata": {},
   "cell_type": "code",
   "outputs": [],
   "execution_count": null,
   "source": "# printing metabolites",
   "id": "1090fcb0e1aa4a00"
  }
 ],
 "metadata": {
  "kernelspec": {
   "display_name": "Python 3",
   "language": "python",
   "name": "python3"
  },
  "language_info": {
   "codemirror_mode": {
    "name": "ipython",
    "version": 2
   },
   "file_extension": ".py",
   "mimetype": "text/x-python",
   "name": "python",
   "nbconvert_exporter": "python",
   "pygments_lexer": "ipython2",
   "version": "2.7.6"
  }
 },
 "nbformat": 4,
 "nbformat_minor": 5
}
